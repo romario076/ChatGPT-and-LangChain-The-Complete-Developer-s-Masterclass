{
 "cells": [
  {
   "cell_type": "code",
   "execution_count": 4,
   "metadata": {},
   "outputs": [],
   "source": [
    "from langchain.embeddings import OpenAIEmbeddings\n",
    "from dotenv import load_dotenv\n",
    "\n",
    "load_dotenv()\n",
    "\n",
    "embeddings = OpenAIEmbeddings()"
   ]
  },
  {
   "cell_type": "code",
   "execution_count": 5,
   "metadata": {},
   "outputs": [],
   "source": [
    "import numpy as np\n",
    "\n",
    "def calculate_l2(v1, v2):\n",
    "    return np.linalg.norm(v1 - v2) ** 2"
   ]
  },
  {
   "cell_type": "code",
   "execution_count": 6,
   "metadata": {},
   "outputs": [],
   "source": [
    "import matplotlib.pyplot as plt\n",
    "import textwrap\n",
    "\n",
    "def wrap_labels(labels, width):\n",
    "    return [ '\\n'.join(textwrap.wrap(label, width)) for label in labels ]\n",
    "\n",
    "def plot(data, words):\n",
    "    fig, ax = plt.subplots()\n",
    "    ax.imshow(data, cmap=\"Blues\")\n",
    "\n",
    "    labels = wrap_labels(words, 30)\n",
    "    ax.set_xticks(np.arange(len(words)), labels=labels)\n",
    "    ax.set_yticks(np.arange(len(words)), labels=labels)\n",
    "\n",
    "    ax.xaxis.tick_top()\n",
    "    ax.xaxis.set_label_position('top')\n",
    "\n",
    "    plt.setp(ax.get_xticklabels(), rotation=45, ha=\"left\",\n",
    "            rotation_mode=\"anchor\")\n",
    "\n",
    "    for i in range(len(words)):\n",
    "        for j in range(len(words)):\n",
    "            text = ax.text(j, i, round(data[i, j], 2),\n",
    "                        ha=\"center\", va=\"center\")\n",
    "\n",
    "    fig.tight_layout()\n",
    "    plt.show()"
   ]
  },
  {
   "cell_type": "code",
   "execution_count": null,
   "metadata": {},
   "outputs": [],
   "source": [
    "words = [\n",
    "    \"The happy child jumped bravely from rock to rock\",\n",
    "    \"The child was not timid and had a good time jumping from rock to rock\",\n",
    "    \"Although filled with great fear, the child jumped from rock to rock\",\n",
    "]\n",
    "\n",
    "embs = [\n",
    "    np.array(embeddings.embed_query(word)) for word in words\n",
    "]\n",
    "\n",
    "data = np.array([\n",
    "    [calculate_l2(e1,e2) for e1 in embs] for e2 in embs\n",
    "])\n",
    "\n",
    "plot(data, words)"
   ]
  },
  {
   "cell_type": "code",
   "execution_count": null,
   "metadata": {},
   "outputs": [],
   "source": []
  }
 ],
 "metadata": {
  "kernelspec": {
   "display_name": "Python 3 (ipykernel)",
   "language": "python",
   "name": "python3"
  },
  "language_info": {
   "codemirror_mode": {
    "name": "ipython",
    "version": 3
   },
   "file_extension": ".py",
   "mimetype": "text/x-python",
   "name": "python",
   "nbconvert_exporter": "python",
   "pygments_lexer": "ipython3",
   "version": "3.12.2"
  }
 },
 "nbformat": 4,
 "nbformat_minor": 4
}
